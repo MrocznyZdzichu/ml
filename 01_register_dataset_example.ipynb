{
 "cells": [
  {
   "cell_type": "code",
   "execution_count": 1,
   "id": "7bea2192-ce0f-4a53-9391-02cd6b639ad7",
   "metadata": {},
   "outputs": [],
   "source": [
    "from MLOps import DataGoverner\n",
    "from MLOps.DBManager import DBManager\n",
    "\n",
    "dbm = DBManager(dev_db=True)"
   ]
  },
  {
   "cell_type": "code",
   "execution_count": 2,
   "id": "f8cad49d-a859-4603-a3a3-0b489a45d3ba",
   "metadata": {},
   "outputs": [],
   "source": [
    "import os\n",
    "\n",
    "\n",
    "DataGoverner.register_dataset(dbm, name='Test', type='csv',\n",
    "                             location='http://localhost:4042/download/iris.csv', has_header=False,\n",
    "                             is_structured=1, is_tabelaric=1, description='Immortal Iris dataset')"
   ]
  },
  {
   "cell_type": "code",
   "execution_count": 3,
   "id": "6091d1c3-e588-4317-87e5-d54e2c1d2960",
   "metadata": {},
   "outputs": [],
   "source": [
    "columns_dict = [\n",
    "    {\n",
    "        'column_name': 'sepal_length',\n",
    "        'datatype': 'float', \n",
    "        'datalevel': 'value',\n",
    "        'column_order': 0\n",
    "    },\n",
    "    {\n",
    "        'column_name': 'sepal_width',\n",
    "        'datatype': 'float',\n",
    "        'datalevel': 'value',\n",
    "        'column_order': 1\n",
    "    },\n",
    "    {\n",
    "        'column_name': 'petal_length',\n",
    "        'datatype': 'float',\n",
    "        'datalevel': 'value',\n",
    "        'column_order': 2\n",
    "    },\n",
    "    {\n",
    "        'column_name': 'petal_width',\n",
    "        'datatype': 'float',\n",
    "        'datalevel': 'value',\n",
    "        'column_order': 3\n",
    "    },\n",
    "    {\n",
    "        'column_name': 'class',\n",
    "        'datatype': 'string',\n",
    "        'datalevel': 'category',\n",
    "        'column_order': 4\n",
    "    }\n",
    "]\n",
    "\n",
    "DataGoverner.add_tab_details(dbm, 'Test', columns_dict)"
   ]
  }
 ],
 "metadata": {
  "kernelspec": {
   "display_name": "mlops-env",
   "language": "python",
   "name": "mlops-env"
  },
  "language_info": {
   "codemirror_mode": {
    "name": "ipython",
    "version": 3
   },
   "file_extension": ".py",
   "mimetype": "text/x-python",
   "name": "python",
   "nbconvert_exporter": "python",
   "pygments_lexer": "ipython3",
   "version": "3.12.6"
  }
 },
 "nbformat": 4,
 "nbformat_minor": 5
}
