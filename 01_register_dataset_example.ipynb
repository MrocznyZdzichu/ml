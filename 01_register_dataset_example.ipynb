{
 "cells": [
  {
   "cell_type": "code",
   "execution_count": 2,
   "id": "7bea2192-ce0f-4a53-9391-02cd6b639ad7",
   "metadata": {},
   "outputs": [],
   "source": [
    "from MLOps import MetadataManager\n",
    "from MLOps.DBManager import DBManager\n",
    "\n",
    "dbm = DBManager(dev_db=True)"
   ]
  },
  {
   "cell_type": "code",
   "execution_count": null,
   "id": "f8cad49d-a859-4603-a3a3-0b489a45d3ba",
   "metadata": {},
   "outputs": [
    {
     "name": "stdout",
     "output_type": "stream",
     "text": [
      "DEBUG:\t\tInserting ...\n"
     ]
    },
    {
     "ename": "IntegrityError",
     "evalue": "ORA-00001: unique constraint (MLAPP.SYS_C008815) violated\nHelp: https://docs.oracle.com/error-help/db/ora-00001/",
     "output_type": "error",
     "traceback": [
      "\u001b[1;31m---------------------------------------------------------------------------\u001b[0m",
      "\u001b[1;31mIntegrityError\u001b[0m                            Traceback (most recent call last)",
      "Cell \u001b[1;32mIn[3], line 2\u001b[0m\n\u001b[0;32m      1\u001b[0m \u001b[38;5;28;01mimport\u001b[39;00m \u001b[38;5;21;01mos\u001b[39;00m\n\u001b[1;32m----> 2\u001b[0m \u001b[43mMetadataManager\u001b[49m\u001b[38;5;241;43m.\u001b[39;49m\u001b[43mregister_dataset\u001b[49m\u001b[43m(\u001b[49m\u001b[43mdbm\u001b[49m\u001b[43m,\u001b[49m\u001b[43m \u001b[49m\u001b[43mname\u001b[49m\u001b[38;5;241;43m=\u001b[39;49m\u001b[38;5;124;43m'\u001b[39;49m\u001b[38;5;124;43mTest\u001b[39;49m\u001b[38;5;124;43m'\u001b[39;49m\u001b[43m,\u001b[49m\u001b[43m \u001b[49m\u001b[38;5;28;43mtype\u001b[39;49m\u001b[38;5;241;43m=\u001b[39;49m\u001b[38;5;124;43m'\u001b[39;49m\u001b[38;5;124;43mcsv\u001b[39;49m\u001b[38;5;124;43m'\u001b[39;49m\u001b[43m,\u001b[49m\n\u001b[0;32m      3\u001b[0m \u001b[43m                             \u001b[49m\u001b[43mlocation\u001b[49m\u001b[38;5;241;43m=\u001b[39;49m\u001b[38;5;124;43m'\u001b[39;49m\u001b[38;5;124;43mhttp://localhost:4042/download/iris.csv\u001b[39;49m\u001b[38;5;124;43m'\u001b[39;49m\u001b[43m,\u001b[49m\u001b[43m \u001b[49m\u001b[43mhas_header\u001b[49m\u001b[38;5;241;43m=\u001b[39;49m\u001b[38;5;28;43;01mFalse\u001b[39;49;00m\u001b[43m,\u001b[49m\n\u001b[0;32m      4\u001b[0m \u001b[43m                             \u001b[49m\u001b[43mis_structured\u001b[49m\u001b[38;5;241;43m=\u001b[39;49m\u001b[38;5;241;43m1\u001b[39;49m\u001b[43m,\u001b[49m\u001b[43m \u001b[49m\u001b[43mis_tabelaric\u001b[49m\u001b[38;5;241;43m=\u001b[39;49m\u001b[38;5;241;43m1\u001b[39;49m\u001b[43m,\u001b[49m\u001b[43m \u001b[49m\u001b[43mdescription\u001b[49m\u001b[38;5;241;43m=\u001b[39;49m\u001b[38;5;124;43m'\u001b[39;49m\u001b[38;5;124;43mImmortal Iris dataset\u001b[39;49m\u001b[38;5;124;43m'\u001b[39;49m\u001b[43m)\u001b[49m\n",
      "File \u001b[1;32md:\\projekty-projekciki\\ml\\MLOps\\MetadataManager\\register_dataset.py:48\u001b[0m, in \u001b[0;36mregister_dataset\u001b[1;34m(dbm, name, type, location, has_header, is_structured, is_tabelaric, description)\u001b[0m\n\u001b[0;32m     37\u001b[0m data_dict \u001b[38;5;241m=\u001b[39m {\n\u001b[0;32m     38\u001b[0m     \u001b[38;5;124m'\u001b[39m\u001b[38;5;124mname\u001b[39m\u001b[38;5;124m'\u001b[39m: name,\n\u001b[0;32m     39\u001b[0m     \u001b[38;5;124m'\u001b[39m\u001b[38;5;124mtype\u001b[39m\u001b[38;5;124m'\u001b[39m: \u001b[38;5;28mtype\u001b[39m,\n\u001b[1;32m   (...)\u001b[0m\n\u001b[0;32m     45\u001b[0m     \u001b[38;5;124m'\u001b[39m\u001b[38;5;124mis_active\u001b[39m\u001b[38;5;124m'\u001b[39m : \u001b[38;5;241m1\u001b[39m\n\u001b[0;32m     46\u001b[0m }\n\u001b[0;32m     47\u001b[0m \u001b[38;5;28mprint\u001b[39m(\u001b[38;5;124m'\u001b[39m\u001b[38;5;124mDEBUG:\u001b[39m\u001b[38;5;130;01m\\t\u001b[39;00m\u001b[38;5;130;01m\\t\u001b[39;00m\u001b[38;5;124mInserting ...\u001b[39m\u001b[38;5;124m'\u001b[39m)\n\u001b[1;32m---> 48\u001b[0m \u001b[43mdbm\u001b[49m\u001b[38;5;241;43m.\u001b[39;49m\u001b[43mexecute_insert\u001b[49m\u001b[43m(\u001b[49m\u001b[43minsert_query\u001b[49m\u001b[43m,\u001b[49m\u001b[43m \u001b[49m\u001b[43mdata_dict\u001b[49m\u001b[43m)\u001b[49m\n",
      "File \u001b[1;32md:\\projekty-projekciki\\ml\\MLOps\\DBManager\\DBManager.py:65\u001b[0m, in \u001b[0;36mDBManager.execute_insert\u001b[1;34m(self, query, data_dict)\u001b[0m\n\u001b[0;32m     63\u001b[0m \u001b[38;5;28;01mwith\u001b[39;00m \u001b[38;5;28mself\u001b[39m\u001b[38;5;241m.\u001b[39m__yield_connection() \u001b[38;5;28;01mas\u001b[39;00m connection:\n\u001b[0;32m     64\u001b[0m     cursor \u001b[38;5;241m=\u001b[39m connection\u001b[38;5;241m.\u001b[39mcursor()\n\u001b[1;32m---> 65\u001b[0m     \u001b[43mcursor\u001b[49m\u001b[38;5;241;43m.\u001b[39;49m\u001b[43mexecute\u001b[49m\u001b[43m(\u001b[49m\u001b[43mquery\u001b[49m\u001b[43m,\u001b[49m\u001b[43m \u001b[49m\u001b[43mdata_dict\u001b[49m\u001b[43m)\u001b[49m\n\u001b[0;32m     66\u001b[0m     connection\u001b[38;5;241m.\u001b[39mcommit()\n",
      "File \u001b[1;32md:\\projekty-projekciki\\ml\\mlops-env\\Lib\\site-packages\\oracledb\\cursor.py:710\u001b[0m, in \u001b[0;36mCursor.execute\u001b[1;34m(self, statement, parameters, **keyword_parameters)\u001b[0m\n\u001b[0;32m    708\u001b[0m \u001b[38;5;28mself\u001b[39m\u001b[38;5;241m.\u001b[39m_prepare_for_execute(statement, parameters, keyword_parameters)\n\u001b[0;32m    709\u001b[0m impl \u001b[38;5;241m=\u001b[39m \u001b[38;5;28mself\u001b[39m\u001b[38;5;241m.\u001b[39m_impl\n\u001b[1;32m--> 710\u001b[0m \u001b[43mimpl\u001b[49m\u001b[38;5;241;43m.\u001b[39;49m\u001b[43mexecute\u001b[49m\u001b[43m(\u001b[49m\u001b[38;5;28;43mself\u001b[39;49m\u001b[43m)\u001b[49m\n\u001b[0;32m    711\u001b[0m \u001b[38;5;28;01mif\u001b[39;00m impl\u001b[38;5;241m.\u001b[39mfetch_vars \u001b[38;5;129;01mis\u001b[39;00m \u001b[38;5;129;01mnot\u001b[39;00m \u001b[38;5;28;01mNone\u001b[39;00m:\n\u001b[0;32m    712\u001b[0m     \u001b[38;5;28;01mreturn\u001b[39;00m \u001b[38;5;28mself\u001b[39m\n",
      "File \u001b[1;32msrc\\\\oracledb\\\\impl/thin/cursor.pyx:196\u001b[0m, in \u001b[0;36moracledb.thin_impl.ThinCursorImpl.execute\u001b[1;34m()\u001b[0m\n",
      "File \u001b[1;32msrc\\\\oracledb\\\\impl/thin/protocol.pyx:440\u001b[0m, in \u001b[0;36moracledb.thin_impl.Protocol._process_single_message\u001b[1;34m()\u001b[0m\n",
      "File \u001b[1;32msrc\\\\oracledb\\\\impl/thin/protocol.pyx:441\u001b[0m, in \u001b[0;36moracledb.thin_impl.Protocol._process_single_message\u001b[1;34m()\u001b[0m\n",
      "File \u001b[1;32msrc\\\\oracledb\\\\impl/thin/protocol.pyx:433\u001b[0m, in \u001b[0;36moracledb.thin_impl.Protocol._process_message\u001b[1;34m()\u001b[0m\n",
      "File \u001b[1;32msrc\\\\oracledb\\\\impl/thin/messages.pyx:74\u001b[0m, in \u001b[0;36moracledb.thin_impl.Message._check_and_raise_exception\u001b[1;34m()\u001b[0m\n",
      "\u001b[1;31mIntegrityError\u001b[0m: ORA-00001: unique constraint (MLAPP.SYS_C008815) violated\nHelp: https://docs.oracle.com/error-help/db/ora-00001/"
     ]
    },
    {
     "ename": "",
     "evalue": "",
     "output_type": "error",
     "traceback": [
      "\u001b[1;31mThe Kernel crashed while executing code in the current cell or a previous cell. \n",
      "\u001b[1;31mPlease review the code in the cell(s) to identify a possible cause of the failure. \n",
      "\u001b[1;31mClick <a href='https://aka.ms/vscodeJupyterKernelCrash'>here</a> for more info. \n",
      "\u001b[1;31mView Jupyter <a href='command:jupyter.viewOutput'>log</a> for further details."
     ]
    }
   ],
   "source": [
    "import os\n",
    "MetadataManager.register_dataset(dbm, name='Test', type='csv',\n",
    "                             location='http://localhost:4042/download/iris.csv', has_header=False,\n",
    "                             is_structured=1, is_tabelaric=1, description='Immortal Iris dataset')"
   ]
  },
  {
   "cell_type": "code",
   "execution_count": 3,
   "id": "6091d1c3-e588-4317-87e5-d54e2c1d2960",
   "metadata": {},
   "outputs": [],
   "source": [
    "columns_dict = [\n",
    "    {\n",
    "        'column_name': 'sepal_length',\n",
    "        'datatype': 'float', \n",
    "        'datalevel': 'value',\n",
    "        'column_order': 0\n",
    "    },\n",
    "    {\n",
    "        'column_name': 'sepal_width',\n",
    "        'datatype': 'float',\n",
    "        'datalevel': 'value',\n",
    "        'column_order': 1\n",
    "    },\n",
    "    {\n",
    "        'column_name': 'petal_length',\n",
    "        'datatype': 'float',\n",
    "        'datalevel': 'value',\n",
    "        'column_order': 2\n",
    "    },\n",
    "    {\n",
    "        'column_name': 'petal_width',\n",
    "        'datatype': 'float',\n",
    "        'datalevel': 'value',\n",
    "        'column_order': 3\n",
    "    },\n",
    "    {\n",
    "        'column_name': 'class',\n",
    "        'datatype': 'string',\n",
    "        'datalevel': 'category',\n",
    "        'column_order': 4\n",
    "    }\n",
    "]\n",
    "\n",
    "DataGoverner.add_tab_details(dbm, 'Test', columns_dict)"
   ]
  }
 ],
 "metadata": {
  "kernelspec": {
   "display_name": "mlops-env",
   "language": "python",
   "name": "python3"
  },
  "language_info": {
   "codemirror_mode": {
    "name": "ipython",
    "version": 3
   },
   "file_extension": ".py",
   "mimetype": "text/x-python",
   "name": "python",
   "nbconvert_exporter": "python",
   "pygments_lexer": "ipython3",
   "version": "3.12.6"
  }
 },
 "nbformat": 4,
 "nbformat_minor": 5
}
