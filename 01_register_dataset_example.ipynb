{
 "cells": [
  {
   "cell_type": "code",
   "execution_count": 1,
   "id": "6041eccc-0830-4b2c-b5f4-1f15b2f0c4e5",
   "metadata": {},
   "outputs": [],
   "source": [
    "from MLOps import DataGoverner\n",
    "from MLOps.DBManager import DBManager"
   ]
  },
  {
   "cell_type": "code",
   "execution_count": 2,
   "id": "f3055196-4545-47c2-8613-5879994641e1",
   "metadata": {},
   "outputs": [],
   "source": [
    "dbm = DBManager(dev_db=True)"
   ]
  },
  {
   "cell_type": "code",
   "execution_count": 3,
   "id": "f8cad49d-a859-4603-a3a3-0b489a45d3ba",
   "metadata": {},
   "outputs": [],
   "source": [
    "DataGoverner.register_dataset(dbm, name='Iris', type='csv',\n",
    "                             location=r'D:\\projekty-projekciki\\ml\\example-data\\iris.csv',\n",
    "                             is_structured=1, is_tabelaric=1, description='Immortal Iris dataset')"
   ]
  },
  {
   "cell_type": "code",
   "execution_count": 4,
   "id": "359b421b-7ed8-476b-ac56-e71d9b397fc4",
   "metadata": {},
   "outputs": [],
   "source": [
    "columns_dict = [\n",
    "    {\n",
    "        'column_name': 'sepal_length',\n",
    "        'datatype': 'float', \n",
    "        'datarole': 'input',  \n",
    "        'datalevel': 'value',\n",
    "        'column_order': 0\n",
    "    },\n",
    "    {\n",
    "        'column_name': 'sepal_width',\n",
    "        'datatype': 'float',\n",
    "        'datarole': 'input',\n",
    "        'datalevel': 'value',\n",
    "        'column_order': 1\n",
    "    },\n",
    "    {\n",
    "        'column_name': 'petal_length',\n",
    "        'datatype': 'float',\n",
    "        'datarole': 'input',\n",
    "        'datalevel': 'value',\n",
    "        'column_order': 2\n",
    "    },\n",
    "    {\n",
    "        'column_name': 'petal_width',\n",
    "        'datatype': 'float',\n",
    "        'datarole': 'input',\n",
    "        'datalevel': 'value',\n",
    "        'column_order': 3\n",
    "    },\n",
    "    {\n",
    "        'column_name': 'class',\n",
    "        'datatype': 'string',  \n",
    "        'datarole': 'target',  \n",
    "        'datalevel': 'category',\n",
    "        'column_order': 4\n",
    "    }\n",
    "]\n",
    "\n",
    "DataGoverner.add_tab_details(dbm, 'Iris', columns_dict)"
   ]
  }
 ],
 "metadata": {
  "kernelspec": {
   "display_name": "mlops-env",
   "language": "python",
   "name": "mlops-env"
  },
  "language_info": {
   "codemirror_mode": {
    "name": "ipython",
    "version": 3
   },
   "file_extension": ".py",
   "mimetype": "text/x-python",
   "name": "python",
   "nbconvert_exporter": "python",
   "pygments_lexer": "ipython3",
   "version": "3.12.6"
  }
 },
 "nbformat": 4,
 "nbformat_minor": 5
}
