{
 "cells": [
  {
   "cell_type": "code",
   "execution_count": 1,
   "id": "7bea2192-ce0f-4a53-9391-02cd6b639ad7",
   "metadata": {},
   "outputs": [],
   "source": [
    "from MLOps import DataGoverner\n",
    "from MLOps.DBManager import DBManager\n",
    "\n",
    "dbm = DBManager(dev_db=True)"
   ]
  },
  {
   "cell_type": "code",
   "execution_count": 2,
   "id": "f8cad49d-a859-4603-a3a3-0b489a45d3ba",
   "metadata": {},
   "outputs": [],
   "source": [
    "import os\n",
    "\n",
    "\n",
    "DataGoverner.register_dataset(dbm, name='Iris', type='csv',\n",
    "                             location=os.path.join('example-data', 'iris.csv'),\n",
    "                             is_structured=1, is_tabelaric=1, description='Immortal Iris dataset')"
   ]
  },
  {
   "cell_type": "code",
   "execution_count": 3,
   "id": "359b421b-7ed8-476b-ac56-e71d9b397fc4",
   "metadata": {},
   "outputs": [],
   "source": [
    "columns_dict = [\n",
    "    {\n",
    "        'column_name': 'sepal_length',\n",
    "        'datatype': 'float', \n",
    "        'datarole': 'input',  \n",
    "        'datalevel': 'value',\n",
    "        'column_order': 0\n",
    "    },\n",
    "    {\n",
    "        'column_name': 'sepal_width',\n",
    "        'datatype': 'float',\n",
    "        'datarole': 'input',\n",
    "        'datalevel': 'value',\n",
    "        'column_order': 1\n",
    "    },\n",
    "    {\n",
    "        'column_name': 'petal_length',\n",
    "        'datatype': 'float',\n",
    "        'datarole': 'input',\n",
    "        'datalevel': 'value',\n",
    "        'column_order': 2\n",
    "    },\n",
    "    {\n",
    "        'column_name': 'petal_width',\n",
    "        'datatype': 'float',\n",
    "        'datarole': 'input',\n",
    "        'datalevel': 'value',\n",
    "        'column_order': 3\n",
    "    },\n",
    "    {\n",
    "        'column_name': 'class',\n",
    "        'datatype': 'string',  \n",
    "        'datarole': 'target',  \n",
    "        'datalevel': 'category',\n",
    "        'column_order': 4\n",
    "    }\n",
    "]\n",
    "\n",
    "DataGoverner.add_tab_details(dbm, 'Iris', columns_dict)"
   ]
  }
 ],
 "metadata": {
  "kernelspec": {
   "display_name": "mlops-env",
   "language": "python",
   "name": "mlops-env"
  },
  "language_info": {
   "codemirror_mode": {
    "name": "ipython",
    "version": 3
   },
   "file_extension": ".py",
   "mimetype": "text/x-python",
   "name": "python",
   "nbconvert_exporter": "python",
   "pygments_lexer": "ipython3",
   "version": "3.12.6"
  }
 },
 "nbformat": 4,
 "nbformat_minor": 5
}
