{
 "cells": [
  {
   "cell_type": "code",
   "execution_count": 1,
   "id": "b7e7fd56-7c67-4494-a495-50091d6a7b94",
   "metadata": {},
   "outputs": [
    {
     "name": "stdout",
     "output_type": "stream",
     "text": [
      "Model 'Iris classifier' loaded successfully.\n",
      "Model 'Calories of cereals' loaded successfully.\n"
     ]
    }
   ],
   "source": [
    "from MLOps import ModelManager as MM\n",
    "\n",
    "iris_clf    = MM.load_model('Iris classifier')\n",
    "cereals_reg = MM.load_model('Calories of cereals')"
   ]
  },
  {
   "cell_type": "code",
   "execution_count": 2,
   "id": "c2e1191e-0991-45ee-ab97-f00c6fe215fb",
   "metadata": {},
   "outputs": [
    {
     "name": "stdout",
     "output_type": "stream",
     "text": [
      "Online scoring service script generated at: \"ModelsRepository\\Calories of cereals\\online_service.py\"\n",
      "To run the service, activate your virtual environment located in 'mlops-env' and execute the script as follows:\n",
      ".\\mlops-env\\Scripts\\Activate\n",
      "python \"ModelsRepository\\Calories of cereals\\online_service.py\" --port <port_number>\n",
      "deactivate\n"
     ]
    }
   ],
   "source": [
    "cereals_reg.generate_online_score_code()"
   ]
  },
  {
   "cell_type": "code",
   "execution_count": 3,
   "id": "a6a5fbf3-4f3b-4f7e-97c1-e2e0ab2cf995",
   "metadata": {},
   "outputs": [
    {
     "name": "stdout",
     "output_type": "stream",
     "text": [
      "Online scoring service script generated at: \"ModelsRepository\\Iris classifier\\online_service.py\"\n",
      "To run the service, activate your virtual environment located in 'mlops-env' and execute the script as follows:\n",
      ".\\mlops-env\\Scripts\\Activate\n",
      "python \"ModelsRepository\\Iris classifier\\online_service.py\" --port <port_number>\n",
      "deactivate\n"
     ]
    }
   ],
   "source": [
    "iris_clf.generate_online_score_code()"
   ]
  },
  {
   "cell_type": "markdown",
   "id": "f3b45d19-2583-4348-8a1c-6a3f7638da70",
   "metadata": {},
   "source": [
    "### Start your services in a background"
   ]
  },
  {
   "cell_type": "code",
   "execution_count": 6,
   "id": "59f04701-d32d-4534-b9b9-ab8ee90039fe",
   "metadata": {},
   "outputs": [
    {
     "name": "stdout",
     "output_type": "stream",
     "text": [
      "Microsoft Windows [Version 10.0.22631.4317]\n",
      "(c) Microsoft Corporation. Wszelkie prawa zastrze�one.\n",
      "\n",
      "D:\\projekty-projekciki\\ml>curl -X POST \"http://127.0.0.1:8000/predict/\" -H \"Content-Type: application/json\" -d \"@example-data\\cereal_sample_vector.json\"\n"
     ]
    },
    {
     "name": "stderr",
     "output_type": "stream",
     "text": [
      "  % Total    % Received % Xferd  Average Speed   Time    Time     Time  Current\n",
      "                                 Dload  Upload   Total   Spent    Left  Speed\n",
      "100   529  100    35  100   494   3919  55325 --:--:-- --:--:-- --:--:-- 66125\n"
     ]
    },
    {
     "name": "stdout",
     "output_type": "stream",
     "text": [
      "{\"predictions\":[78.21011673501168]}\n",
      "D:\\projekty-projekciki\\ml>"
     ]
    }
   ],
   "source": [
    "%%cmd\n",
    "curl -X POST \"http://127.0.0.1:8000/predict/\" -H \"Content-Type: application/json\" -d \"@example-data\\cereal_sample_vector.json\""
   ]
  },
  {
   "cell_type": "code",
   "execution_count": 7,
   "id": "db069fe2-a5d4-42e5-9204-51034acabc3e",
   "metadata": {},
   "outputs": [
    {
     "name": "stdout",
     "output_type": "stream",
     "text": [
      "Microsoft Windows [Version 10.0.22631.4317]\n",
      "(c) Microsoft Corporation. Wszelkie prawa zastrze�one.\n",
      "\n",
      "D:\\projekty-projekciki\\ml>curl -X POST \"http://127.0.0.1:2137/predict/\" -H \"Content-Type: application/json\" -d \"@example-data\\iris_test_online.json\"\n"
     ]
    },
    {
     "name": "stderr",
     "output_type": "stream",
     "text": [
      "  % Total    % Received % Xferd  Average Speed   Time    Time     Time  Current\n",
      "                                 Dload  Upload   Total   Spent    Left  Speed\n",
      "100  1664  100   649  100  1015  57663  90182 --:--:-- --:--:-- --:--:--  147k\n"
     ]
    },
    {
     "name": "stdout",
     "output_type": "stream",
     "text": [
      "{\"predictions\":[\"Iris-setosa\",\"Iris-setosa\",\"Iris-setosa\",\"Iris-setosa\",\"Iris-setosa\",\"Iris-setosa\",\"Iris-setosa\",\"Iris-setosa\",\"Iris-setosa\",\"Iris-setosa\",\"Iris-setosa\",\"Iris-setosa\",\"Iris-setosa\",\"Iris-setosa\",\"Iris-setosa\",\"Iris-setosa\",\"Iris-setosa\",\"Iris-setosa\",\"Iris-setosa\",\"Iris-setosa\",\"Iris-versicolor\",\"Iris-versicolor\",\"Iris-versicolor\",\"Iris-versicolor\",\"Iris-versicolor\",\"Iris-versicolor\",\"Iris-versicolor\",\"Iris-versicolor\",\"Iris-versicolor\",\"Iris-versicolor\",\"Iris-versicolor\",\"Iris-versicolor\",\"Iris-virginica\",\"Iris-virginica\",\"Iris-virginica\",\"Iris-virginica\",\"Iris-virginica\",\"Iris-virginica\",\"Iris-virginica\",\"Iris-virginica\"]}\n",
      "D:\\projekty-projekciki\\ml>"
     ]
    }
   ],
   "source": [
    "%%cmd\n",
    "curl -X POST \"http://127.0.0.1:2137/predict/\" -H \"Content-Type: application/json\" -d \"@example-data\\iris_test_online.json\""
   ]
  }
 ],
 "metadata": {
  "kernelspec": {
   "display_name": "mlops-env",
   "language": "python",
   "name": "mlops-env"
  },
  "language_info": {
   "codemirror_mode": {
    "name": "ipython",
    "version": 3
   },
   "file_extension": ".py",
   "mimetype": "text/x-python",
   "name": "python",
   "nbconvert_exporter": "python",
   "pygments_lexer": "ipython3",
   "version": "3.12.6"
  }
 },
 "nbformat": 4,
 "nbformat_minor": 5
}
