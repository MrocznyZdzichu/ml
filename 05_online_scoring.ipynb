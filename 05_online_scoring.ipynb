{
 "cells": [
  {
   "cell_type": "code",
   "execution_count": 1,
   "id": "b7e7fd56-7c67-4494-a495-50091d6a7b94",
   "metadata": {},
   "outputs": [
    {
     "name": "stdout",
     "output_type": "stream",
     "text": [
      "Model 'Iris classifier' loaded successfully.\n",
      "Model 'Calories of cereals' loaded successfully.\n"
     ]
    }
   ],
   "source": [
    "from MLOps import ModelManager as MM\n",
    "\n",
    "iris_clf    = MM.load_model('Iris classifier')\n",
    "cereals_reg = MM.load_model('Calories of cereals')"
   ]
  },
  {
   "cell_type": "code",
   "execution_count": 2,
   "id": "c2e1191e-0991-45ee-ab97-f00c6fe215fb",
   "metadata": {},
   "outputs": [
    {
     "name": "stdout",
     "output_type": "stream",
     "text": [
      "Online scoring service script generated at: \"ModelsRepository\\Calories of cereals\\online_service.py\"\n",
      "To run the service, activate your virtual environment located in 'mlops-env' and execute the script as follows:\n",
      ".\\mlops-env\\Scripts\\Activate\n",
      "python \"ModelsRepository\\Calories of cereals\\online_service.py\"\n",
      "deactivate\n"
     ]
    }
   ],
   "source": [
    "cereals_reg.generate_online_score_code()"
   ]
  },
  {
   "cell_type": "code",
   "execution_count": 3,
   "id": "a6a5fbf3-4f3b-4f7e-97c1-e2e0ab2cf995",
   "metadata": {},
   "outputs": [
    {
     "name": "stdout",
     "output_type": "stream",
     "text": [
      "Online scoring service script generated at: \"ModelsRepository\\Iris classifier\\online_service.py\"\n",
      "To run the service, activate your virtual environment located in 'mlops-env' and execute the script as follows:\n",
      ".\\mlops-env\\Scripts\\Activate\n",
      "python \"ModelsRepository\\Iris classifier\\online_service.py\"\n",
      "deactivate\n"
     ]
    }
   ],
   "source": [
    "iris_clf.generate_online_score_code()"
   ]
  },
  {
   "cell_type": "code",
   "execution_count": 6,
   "id": "ff48c7b0-344e-44f2-9923-906941bc713f",
   "metadata": {},
   "outputs": [
    {
     "name": "stdout",
     "output_type": "stream",
     "text": [
      "Predictions: {'predictions': [78.21011673501168]}\n"
     ]
    }
   ],
   "source": [
    "import requests\n",
    "import os \n",
    "import json\n",
    "\n",
    "\n",
    "# URL of the running FastAPI service\n",
    "url = \"http://localhost:8000/predict/\"\n",
    "file_path = os.path.join(\"example-data\", \"cereal_sample_vector.json\")\n",
    "\n",
    "# JSON payload with test data based on the provided cereal dataset\n",
    "with open(file_path, 'r') as file:\n",
    "    payload = json.load(file)\n",
    "\n",
    "# Send the POST request to the /predict endpoint\n",
    "response = requests.post(url, json=payload)\n",
    "\n",
    "# Print the response from the server\n",
    "if response.status_code == 200:\n",
    "    print(\"Predictions:\", response.json())\n",
    "else:\n",
    "    print(\"Error:\", response.status_code, response.text)\n"
   ]
  },
  {
   "cell_type": "code",
   "execution_count": null,
   "id": "e01fb6ac-ee3b-45a0-a1df-9dbfcb92991b",
   "metadata": {},
   "outputs": [],
   "source": [
    "import requests\n",
    "import os \n",
    "import json\n",
    "\n",
    "\n",
    "# URL of the running FastAPI service\n",
    "url = \"http://localhost:8000/predict/\"\n",
    "file_path = os.path.join(\"example-data\", \"iris_test_online.json\")\n",
    "\n",
    "# JSON payload with test data based on the provided cereal dataset\n",
    "with open(file_path, 'r') as file:\n",
    "    payload = json.load(file)\n",
    "\n",
    "# Send the POST request to the /predict endpoint\n",
    "response = requests.post(url, json=payload)\n",
    "\n",
    "# Print the response from the server\n",
    "if response.status_code == 200:\n",
    "    print(\"Predictions:\", response.json())\n",
    "else:\n",
    "    print(\"Error:\", response.status_code, response.text)\n"
   ]
  }
 ],
 "metadata": {
  "kernelspec": {
   "display_name": "mlops-env",
   "language": "python",
   "name": "mlops-env"
  },
  "language_info": {
   "codemirror_mode": {
    "name": "ipython",
    "version": 3
   },
   "file_extension": ".py",
   "mimetype": "text/x-python",
   "name": "python",
   "nbconvert_exporter": "python",
   "pygments_lexer": "ipython3",
   "version": "3.12.6"
  }
 },
 "nbformat": 4,
 "nbformat_minor": 5
}
