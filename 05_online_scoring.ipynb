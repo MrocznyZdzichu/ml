{
 "cells": [
  {
   "cell_type": "code",
   "execution_count": null,
   "id": "b7e7fd56-7c67-4494-a495-50091d6a7b94",
   "metadata": {},
   "outputs": [],
   "source": [
    "from MLOps import ModelManager as MM\n",
    "\n",
    "iris_clf    = MM.load_model('Iris classifier')\n",
    "cereals_reg = MM.load_model('Calories of cereals')"
   ]
  },
  {
   "cell_type": "code",
   "execution_count": null,
   "id": "c2e1191e-0991-45ee-ab97-f00c6fe215fb",
   "metadata": {},
   "outputs": [],
   "source": [
    "cereals_reg.generate_online_score_code()"
   ]
  },
  {
   "cell_type": "code",
   "execution_count": null,
   "id": "a6a5fbf3-4f3b-4f7e-97c1-e2e0ab2cf995",
   "metadata": {},
   "outputs": [],
   "source": [
    "iris_clf.generate_online_score_code()"
   ]
  },
  {
   "cell_type": "markdown",
   "id": "f3b45d19-2583-4348-8a1c-6a3f7638da70",
   "metadata": {},
   "source": [
    "### Start your services in a background"
   ]
  },
  {
   "cell_type": "code",
   "execution_count": null,
   "id": "59f04701-d32d-4534-b9b9-ab8ee90039fe",
   "metadata": {},
   "outputs": [],
   "source": [
    "%%cmd\n",
    "curl -X POST \"http://127.0.0.1:8000/predict/\" -H \"Content-Type: application/json\" -d \"@example-data\\cereal_sample_vector.json\""
   ]
  },
  {
   "cell_type": "code",
   "execution_count": null,
   "id": "db069fe2-a5d4-42e5-9204-51034acabc3e",
   "metadata": {},
   "outputs": [],
   "source": [
    "%%cmd\n",
    "curl -X POST \"http://127.0.0.1:2137/predict/\" -H \"Content-Type: application/json\" -d \"@example-data\\iris_test_online.json\""
   ]
  }
 ],
 "metadata": {
  "kernelspec": {
   "display_name": "mlops-env",
   "language": "python",
   "name": "mlops-env"
  },
  "language_info": {
   "codemirror_mode": {
    "name": "ipython",
    "version": 3
   },
   "file_extension": ".py",
   "mimetype": "text/x-python",
   "name": "python",
   "nbconvert_exporter": "python",
   "pygments_lexer": "ipython3",
   "version": "3.12.6"
  }
 },
 "nbformat": 4,
 "nbformat_minor": 5
}
