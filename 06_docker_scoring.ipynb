{
 "cells": [
  {
   "cell_type": "code",
   "execution_count": 30,
   "id": "eba77b7c-466e-499e-a17a-ed26b388cbee",
   "metadata": {},
   "outputs": [
    {
     "name": "stdout",
     "output_type": "stream",
     "text": [
      "Model 'Iris classifier' loaded successfully.\n",
      "Model 'Calories of cereals' loaded successfully.\n"
     ]
    }
   ],
   "source": [
    "from MLOps import ModelManager as MM\n",
    "\n",
    "iris_clf    = MM.load_model('Iris classifier')\n",
    "cereals_reg = MM.load_model('Calories of cereals')"
   ]
  },
  {
   "cell_type": "code",
   "execution_count": 31,
   "id": "d9e48f8c-3b5f-491b-a33f-e4de91caa1d6",
   "metadata": {},
   "outputs": [
    {
     "name": "stdout",
     "output_type": "stream",
     "text": [
      "Dockerized scoring service generated for model 'Calories of cereals' in 'ModelsRepository\\Calories of cereals'.\n",
      "Files generated:\n",
      "- Dockerfile: ModelsRepository\\Calories of cereals\\Dockerfile\n",
      "- FastAPI app script: ModelsRepository\\Calories of cereals\\app.py\n",
      "- Docker Compose override configuration: ModelsRepository\\Calories of cereals\\docker-compose.override.yml\n",
      "To deploy the service in Docker, build the image and start the container with Docker Compose:\n",
      "docker-compose -f \"ModelsRepository\\Calories of cereals\\docker-compose.override.yml\" up --build \"calories-of-cereals-service\"\n",
      "\n",
      "\n",
      "\n",
      "Dockerized scoring service generated for model 'Iris classifier' in 'ModelsRepository\\Iris classifier'.\n",
      "Files generated:\n",
      "- Dockerfile: ModelsRepository\\Iris classifier\\Dockerfile\n",
      "- FastAPI app script: ModelsRepository\\Iris classifier\\app.py\n",
      "- Docker Compose override configuration: ModelsRepository\\Iris classifier\\docker-compose.override.yml\n",
      "To deploy the service in Docker, build the image and start the container with Docker Compose:\n",
      "docker-compose -f \"ModelsRepository\\Iris classifier\\docker-compose.override.yml\" up --build \"iris-classifier-service\"\n"
     ]
    }
   ],
   "source": [
    "cereals_reg.generate_docker_score_code(container_port=4060)\n",
    "print('\\n\\n')\n",
    "iris_clf.generate_docker_score_code(container_port=4061)"
   ]
  },
  {
   "cell_type": "markdown",
   "id": "2628a9eb-b4d9-4f92-ac5b-f72d136720ec",
   "metadata": {},
   "source": [
    "## Start the container as instructed above"
   ]
  },
  {
   "cell_type": "code",
   "execution_count": 32,
   "id": "85411350-7f25-4016-b4f7-1c51d92435f5",
   "metadata": {},
   "outputs": [
    {
     "name": "stdout",
     "output_type": "stream",
     "text": [
      "Microsoft Windows [Version 10.0.22631.4317]\n",
      "(c) Microsoft Corporation. Wszelkie prawa zastrze�one.\n",
      "\n",
      "D:\\projekty-projekciki\\ml>curl -X POST \"http://127.0.0.1:4060/predict/\" -H \"Content-Type: application/json\" -d \"@example-data\\cereal_sample_vector.json\"\n"
     ]
    },
    {
     "name": "stderr",
     "output_type": "stream",
     "text": [
      "  % Total    % Received % Xferd  Average Speed   Time    Time     Time  Current\n",
      "                                 Dload  Upload   Total   Spent    Left  Speed\n",
      "100   529  100    35  100   494   2765  39032 --:--:-- --:--:-- --:--:-- 44083\n"
     ]
    },
    {
     "name": "stdout",
     "output_type": "stream",
     "text": [
      "{\"predictions\":[78.21011673501168]}\n",
      "D:\\projekty-projekciki\\ml>"
     ]
    }
   ],
   "source": [
    "%%cmd\n",
    "curl -X POST \"http://127.0.0.1:4060/predict/\" -H \"Content-Type: application/json\" -d \"@example-data\\cereal_sample_vector.json\""
   ]
  },
  {
   "cell_type": "code",
   "execution_count": 33,
   "id": "8b984bd5-85d8-4314-ba3f-5ab7a82c03cd",
   "metadata": {},
   "outputs": [
    {
     "name": "stdout",
     "output_type": "stream",
     "text": [
      "Microsoft Windows [Version 10.0.22631.4317]\n",
      "(c) Microsoft Corporation. Wszelkie prawa zastrze�one.\n",
      "\n",
      "D:\\projekty-projekciki\\ml>curl -X POST \"http://127.0.0.1:4061/predict/\" -H \"Content-Type: application/json\" -d \"@example-data\\iris_test_online.json\"\n"
     ]
    },
    {
     "name": "stderr",
     "output_type": "stream",
     "text": [
      "  % Total    % Received % Xferd  Average Speed   Time    Time     Time  Current\n",
      "                                 Dload  Upload   Total   Spent    Left  Speed\n",
      "100  1664  100   649  100  1015  39808  62258 --:--:-- --:--:-- --:--:--  101k\n"
     ]
    },
    {
     "name": "stdout",
     "output_type": "stream",
     "text": [
      "{\"predictions\":[\"Iris-setosa\",\"Iris-setosa\",\"Iris-setosa\",\"Iris-setosa\",\"Iris-setosa\",\"Iris-setosa\",\"Iris-setosa\",\"Iris-setosa\",\"Iris-setosa\",\"Iris-setosa\",\"Iris-setosa\",\"Iris-setosa\",\"Iris-setosa\",\"Iris-setosa\",\"Iris-setosa\",\"Iris-setosa\",\"Iris-setosa\",\"Iris-setosa\",\"Iris-setosa\",\"Iris-setosa\",\"Iris-versicolor\",\"Iris-versicolor\",\"Iris-versicolor\",\"Iris-versicolor\",\"Iris-versicolor\",\"Iris-versicolor\",\"Iris-versicolor\",\"Iris-versicolor\",\"Iris-versicolor\",\"Iris-versicolor\",\"Iris-versicolor\",\"Iris-versicolor\",\"Iris-virginica\",\"Iris-virginica\",\"Iris-virginica\",\"Iris-virginica\",\"Iris-virginica\",\"Iris-virginica\",\"Iris-virginica\",\"Iris-virginica\"]}\n",
      "D:\\projekty-projekciki\\ml>"
     ]
    }
   ],
   "source": [
    "%%cmd\n",
    "curl -X POST \"http://127.0.0.1:4061/predict/\" -H \"Content-Type: application/json\" -d \"@example-data\\iris_test_online.json\""
   ]
  }
 ],
 "metadata": {
  "kernelspec": {
   "display_name": "mlops-env",
   "language": "python",
   "name": "mlops-env"
  },
  "language_info": {
   "codemirror_mode": {
    "name": "ipython",
    "version": 3
   },
   "file_extension": ".py",
   "mimetype": "text/x-python",
   "name": "python",
   "nbconvert_exporter": "python",
   "pygments_lexer": "ipython3",
   "version": "3.12.6"
  }
 },
 "nbformat": 4,
 "nbformat_minor": 5
}
