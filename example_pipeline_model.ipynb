{
 "cells": [
  {
   "cell_type": "code",
   "execution_count": 1,
   "id": "03404433-6a8a-4cc4-8711-385efd94d9e2",
   "metadata": {},
   "outputs": [],
   "source": [
    "import os\n",
    "\n",
    "from sklearn.pipeline import Pipeline\n",
    "from sklearn.impute import SimpleImputer\n",
    "from sklearn.preprocessing import StandardScaler\n",
    "from sklearn.linear_model import LogisticRegression\n",
    "from sklearn.model_selection import cross_val_score\n",
    "from sklearn.datasets import load_iris\n",
    "from sklearn.model_selection import train_test_split, GridSearchCV\n",
    "\n",
    "import MLOps.DataGoverner as DG\n",
    "from MLOps import DBManager\n",
    "from MLOps import Model\n",
    "\n",
    "import warnings\n",
    "warnings.filterwarnings(\"ignore\")"
   ]
  },
  {
   "cell_type": "code",
   "execution_count": 2,
   "id": "30150de7-738c-439f-b622-d7108b1f65a9",
   "metadata": {},
   "outputs": [
    {
     "name": "stdout",
     "output_type": "stream",
     "text": [
      "Fitting 5 folds for each of 6 candidates, totalling 30 fits\n",
      "Best parameters found:  {'classifier__C': 10, 'classifier__penalty': 'l2', 'classifier__solver': 'lbfgs'}\n",
      "Best cross-validation accuracy:  0.9571428571428573\n"
     ]
    }
   ],
   "source": [
    "IN_DOCKER = os.getenv('IN_DOCKER') == 'Yes'\n",
    "\n",
    "dbm = DBManager(dev_db=True, in_docker=IN_DOCKER)\n",
    "df = DG.load_tabular_dataset(dbm, dataset_name='Iris', in_docker=IN_DOCKER)\n",
    "\n",
    "dataroles = {\n",
    "    'petal_length' : 'input', \n",
    "    'petal_width'  : 'input', \n",
    "    'sepal_length' : 'input', \n",
    "    'sepal_width'  : 'input',\n",
    "    'class'        : 'target'\n",
    "}\n",
    "X = df[[col for col in dataroles if dataroles[col] == 'input']]\n",
    "y = df[[col for col in dataroles if dataroles[col] == 'target']]\n",
    "\n",
    "X_train, X_test, y_train, y_test = train_test_split(X, y, test_size=0.2, random_state=42)\n",
    "\n",
    "pipeline = Pipeline([\n",
    "    ('imputer', SimpleImputer(strategy='mean')),\n",
    "    ('scaler', StandardScaler()),\n",
    "    ('classifier', LogisticRegression())\n",
    "])\n",
    "\n",
    "param_grid = {\n",
    "    'classifier__C': [0.1, 1, 10],\n",
    "    'classifier__penalty': ['l2'],\n",
    "    'classifier__solver': ['lbfgs', 'liblinear']\n",
    "}\n",
    "\n",
    "grid_search = GridSearchCV(pipeline, param_grid, cv=5, scoring='balanced_accuracy', verbose=1)\n",
    "grid_search.fit(X_train, y_train)\n",
    "\n",
    "best = grid_search.best_estimator_\n",
    "\n",
    "print(\"Best parameters found: \", grid_search.best_params_)\n",
    "print(\"Best cross-validation accuracy: \", grid_search.best_score_)"
   ]
  },
  {
   "cell_type": "code",
   "execution_count": 5,
   "id": "0af11836-cac3-4cfa-8884-129f02a52129",
   "metadata": {},
   "outputs": [],
   "source": [
    "model = Model(\n",
    "    name                ='Iris LR pipeline',\n",
    "    estimator_class     =LogisticRegression,\n",
    "    dataset_name        ='Iris',\n",
    "    estimator_parameters={\n",
    "        'C'       : 1,\n",
    "        'penalty' : 'l2',\n",
    "        'solver'  : 'lbfgs'\n",
    "    },\n",
    "    estimator           =best,\n",
    "    features_names      =[col for col in dataroles if dataroles[col] == 'input'],\n",
    "    dataroles           =dataroles\n",
    ")"
   ]
  }
 ],
 "metadata": {
  "kernelspec": {
   "display_name": "mlops-env",
   "language": "python",
   "name": "mlops-env"
  },
  "language_info": {
   "codemirror_mode": {
    "name": "ipython",
    "version": 3
   },
   "file_extension": ".py",
   "mimetype": "text/x-python",
   "name": "python",
   "nbconvert_exporter": "python",
   "pygments_lexer": "ipython3",
   "version": "3.12.6"
  }
 },
 "nbformat": 4,
 "nbformat_minor": 5
}
