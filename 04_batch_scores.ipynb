{
 "cells": [
  {
   "cell_type": "code",
   "execution_count": 1,
   "id": "4db1e903-2fa4-4588-ad72-280c368c7c0c",
   "metadata": {},
   "outputs": [
    {
     "name": "stdout",
     "output_type": "stream",
     "text": [
      "Model 'Iris classifier' loaded successfully from the repository.\n"
     ]
    },
    {
     "ename": "FileNotFoundError",
     "evalue": "Model 'Calories of cereals' not found in the model repository.",
     "output_type": "error",
     "traceback": [
      "\u001b[1;31m---------------------------------------------------------------------------\u001b[0m",
      "\u001b[1;31mFileNotFoundError\u001b[0m                         Traceback (most recent call last)",
      "Cell \u001b[1;32mIn[1], line 4\u001b[0m\n\u001b[0;32m      1\u001b[0m \u001b[38;5;28;01mfrom\u001b[39;00m \u001b[38;5;21;01mMLOps\u001b[39;00m \u001b[38;5;28;01mimport\u001b[39;00m ModelManager \u001b[38;5;28;01mas\u001b[39;00m MM\n\u001b[0;32m      3\u001b[0m iris_clf    \u001b[38;5;241m=\u001b[39m MM\u001b[38;5;241m.\u001b[39mload_model(\u001b[38;5;124m'\u001b[39m\u001b[38;5;124mIris classifier\u001b[39m\u001b[38;5;124m'\u001b[39m)\n\u001b[1;32m----> 4\u001b[0m cereals_reg \u001b[38;5;241m=\u001b[39m \u001b[43mMM\u001b[49m\u001b[38;5;241;43m.\u001b[39;49m\u001b[43mload_model\u001b[49m\u001b[43m(\u001b[49m\u001b[38;5;124;43m'\u001b[39;49m\u001b[38;5;124;43mCalories of cereals\u001b[39;49m\u001b[38;5;124;43m'\u001b[39;49m\u001b[43m)\u001b[49m\n",
      "File \u001b[1;32mD:\\projekty-projekciki\\ml\\MLOps\\ModelManager\\load_model.py:25\u001b[0m, in \u001b[0;36mload_model\u001b[1;34m(model_name, in_docker)\u001b[0m\n\u001b[0;32m     23\u001b[0m response \u001b[38;5;241m=\u001b[39m requests\u001b[38;5;241m.\u001b[39mget(download_url)\n\u001b[0;32m     24\u001b[0m \u001b[38;5;28;01mif\u001b[39;00m response\u001b[38;5;241m.\u001b[39mstatus_code \u001b[38;5;241m!=\u001b[39m \u001b[38;5;241m200\u001b[39m:\n\u001b[1;32m---> 25\u001b[0m     \u001b[38;5;28;01mraise\u001b[39;00m \u001b[38;5;167;01mFileNotFoundError\u001b[39;00m(\u001b[38;5;124mf\u001b[39m\u001b[38;5;124m\"\u001b[39m\u001b[38;5;124mModel \u001b[39m\u001b[38;5;124m'\u001b[39m\u001b[38;5;132;01m{\u001b[39;00mmodel_name\u001b[38;5;132;01m}\u001b[39;00m\u001b[38;5;124m'\u001b[39m\u001b[38;5;124m not found in the model repository.\u001b[39m\u001b[38;5;124m\"\u001b[39m)\n\u001b[0;32m     27\u001b[0m zip_file_path \u001b[38;5;241m=\u001b[39m os\u001b[38;5;241m.\u001b[39mpath\u001b[38;5;241m.\u001b[39mjoin(\u001b[38;5;124mf\u001b[39m\u001b[38;5;124m\"\u001b[39m\u001b[38;5;132;01m{\u001b[39;00mmodel_name\u001b[38;5;132;01m}\u001b[39;00m\u001b[38;5;124m.zip\u001b[39m\u001b[38;5;124m\"\u001b[39m)\n\u001b[0;32m     28\u001b[0m \u001b[38;5;28;01mwith\u001b[39;00m \u001b[38;5;28mopen\u001b[39m(zip_file_path, \u001b[38;5;124m'\u001b[39m\u001b[38;5;124mwb\u001b[39m\u001b[38;5;124m'\u001b[39m) \u001b[38;5;28;01mas\u001b[39;00m zip_file:\n",
      "\u001b[1;31mFileNotFoundError\u001b[0m: Model 'Calories of cereals' not found in the model repository."
     ]
    }
   ],
   "source": [
    "from MLOps import ModelManager as MM\n",
    "\n",
    "iris_clf    = MM.load_model('Iris classifier')\n",
    "cereals_reg = MM.load_model('Calories of cereals')"
   ]
  },
  {
   "cell_type": "code",
   "execution_count": 2,
   "id": "15475559-e421-4c46-a20f-98f228f39657",
   "metadata": {},
   "outputs": [
    {
     "ename": "NameError",
     "evalue": "name 'cereals_reg' is not defined",
     "output_type": "error",
     "traceback": [
      "\u001b[1;31m---------------------------------------------------------------------------\u001b[0m",
      "\u001b[1;31mNameError\u001b[0m                                 Traceback (most recent call last)",
      "Cell \u001b[1;32mIn[2], line 1\u001b[0m\n\u001b[1;32m----> 1\u001b[0m \u001b[43mcereals_reg\u001b[49m\u001b[38;5;241m.\u001b[39mgenerate_batch_score_code()\n",
      "\u001b[1;31mNameError\u001b[0m: name 'cereals_reg' is not defined"
     ]
    }
   ],
   "source": [
    "cereals_reg.generate_batch_score_code()"
   ]
  },
  {
   "cell_type": "code",
   "execution_count": 3,
   "id": "874af7b9-e69c-4922-a414-06914edd4f70",
   "metadata": {},
   "outputs": [
    {
     "name": "stdout",
     "output_type": "stream",
     "text": [
      "Batch scoring script generated at: \"model-repository\\Iris classifier\\score_batch.py\"\n",
      "To run the script, please activate your virtual environment located in 'mlops-env', execute the script, and then deactivate the environment as follows:\n",
      ".\\mlops-env\\Scripts\\Activate\n",
      "python \"model-repository\\Iris classifier\\score_batch.py\" \"<path/to/input_data.csv>\" [--no-headers]\n",
      "deactivate\n"
     ]
    }
   ],
   "source": [
    "iris_clf.generate_batch_score_code()"
   ]
  },
  {
   "cell_type": "code",
   "execution_count": 4,
   "id": "f1a8dcba-d883-4654-99ec-4bf587cf3b4e",
   "metadata": {},
   "outputs": [
    {
     "name": "stdout",
     "output_type": "stream",
     "text": [
      "Microsoft Windows [Version 10.0.22631.4317]\n",
      "(c) Microsoft Corporation. Wszelkie prawa zastrze�one.\n",
      "\n",
      "D:\\projekty-projekciki\\ml>.\\mlops-env\\Scripts\\Activate\n",
      "\n",
      "(mlops-env) D:\\projekty-projekciki\\ml>python \"ModelsRepository\\Calories of cereals\\score_batch.py\" \"example-data\\cereals.csv\"\n",
      "Predictions saved to ModelsRepository\\Calories of cereals\\score-results\\batch\\batch_2024-11-01_21-36-10.csv\n",
      "\n",
      "(mlops-env) D:\\projekty-projekciki\\ml>deactivate\n",
      "D:\\projekty-projekciki\\ml>"
     ]
    }
   ],
   "source": [
    "%%cmd\n",
    ".\\mlops-env\\Scripts\\Activate\n",
    "python \"ModelsRepository\\Calories of cereals\\score_batch.py\" \"example-data\\cereals.csv\"\n",
    "deactivate"
   ]
  },
  {
   "cell_type": "code",
   "execution_count": 5,
   "id": "36263244-7244-4409-950a-1ea3df83d03e",
   "metadata": {},
   "outputs": [
    {
     "name": "stdout",
     "output_type": "stream",
     "text": [
      "Microsoft Windows [Version 10.0.22631.4317]\n",
      "(c) Microsoft Corporation. Wszelkie prawa zastrze�one.\n",
      "\n",
      "D:\\projekty-projekciki\\ml>.\\mlops-env\\Scripts\\Activate\n",
      "\n",
      "(mlops-env) D:\\projekty-projekciki\\ml>python \"ModelsRepository\\Iris classifier\\score_batch.py\" \"example-data\\iris_test.csv\" --no-header\n",
      "Warning: The provided CSV does not contain headers. Assuming the columns are in the correct order.\n",
      "Predictions saved to ModelsRepository\\Iris classifier\\score-results\\batch\\batch_2024-11-01_21-36-10.csv\n",
      "\n",
      "(mlops-env) D:\\projekty-projekciki\\ml>deactivate\n",
      "D:\\projekty-projekciki\\ml>"
     ]
    }
   ],
   "source": [
    "%%cmd\n",
    ".\\mlops-env\\Scripts\\Activate\n",
    "python \"ModelsRepository\\Iris classifier\\score_batch.py\" \"example-data\\iris_test.csv\" --no-header\n",
    "deactivate"
   ]
  }
 ],
 "metadata": {
  "kernelspec": {
   "display_name": "mlops-env",
   "language": "python",
   "name": "mlops-env"
  },
  "language_info": {
   "codemirror_mode": {
    "name": "ipython",
    "version": 3
   },
   "file_extension": ".py",
   "mimetype": "text/x-python",
   "name": "python",
   "nbconvert_exporter": "python",
   "pygments_lexer": "ipython3",
   "version": "3.12.6"
  }
 },
 "nbformat": 4,
 "nbformat_minor": 5
}
