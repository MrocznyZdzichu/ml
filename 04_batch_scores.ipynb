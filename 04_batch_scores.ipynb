{
 "cells": [
  {
   "cell_type": "code",
   "execution_count": 6,
   "id": "2b83072c",
   "metadata": {},
   "outputs": [
    {
     "name": "stdout",
     "output_type": "stream",
     "text": [
      "Model 'Calories of Cereals SVR' loaded successfully from the repository.\n"
     ]
    }
   ],
   "source": [
    "from MLOps import ModelManager as MM\n",
    "\n",
    "cereals_reg    = MM.load_model('Calories of Cereals SVR')"
   ]
  },
  {
   "cell_type": "code",
   "execution_count": 7,
   "id": "64c53010",
   "metadata": {},
   "outputs": [
    {
     "name": "stdout",
     "output_type": "stream",
     "text": [
      "Batch scoring script generated at: \"model-repository\\Calories of Cereals SVR\\score_batch.py\"\n",
      "To run the script, please activate your virtual environment located in 'mlops-env', execute the script, and then deactivate the environment as follows:\n",
      ".\\mlops-env\\Scripts\\Activate\n",
      "python \"model-repository\\Calories of Cereals SVR\\score_batch.py\" \"<path/to/input_data.csv>\" [--no-headers]\n",
      "deactivate\n"
     ]
    }
   ],
   "source": [
    "cereals_reg.generate_batch_score_code()"
   ]
  },
  {
   "cell_type": "code",
   "execution_count": 8,
   "id": "79cd914d",
   "metadata": {},
   "outputs": [
    {
     "name": "stdout",
     "output_type": "stream",
     "text": [
      "Microsoft Windows [Version 10.0.22631.4460]\n",
      "(c) Microsoft Corporation. Wszelkie prawa zastrze�one.\n",
      "\n",
      "(mlops-env) d:\\projekty-projekciki\\ml>.\\mlops-env\\Scripts\\Activate\n",
      "\n",
      "(mlops-env) d:\\projekty-projekciki\\ml>python \"model-repository\\Calories of Cereals SVR\\score_batch.py\" \"example-data\\cereals.csv\"\n"
     ]
    },
    {
     "name": "stderr",
     "output_type": "stream",
     "text": [
      "Traceback (most recent call last):\n",
      "  File \"d:\\projekty-projekciki\\ml\\model-repository\\Calories of Cereals SVR\\score_batch.py\", line 77, in <module>\n",
      "    score_batch(args.input_data_path, has_headers=not args.no_headers)\n",
      "  File \"d:\\projekty-projekciki\\ml\\model-repository\\Calories of Cereals SVR\\score_batch.py\", line 59, in score_batch\n",
      "    model = load_model()\n",
      "            ^^^^^^^^^^^^\n",
      "  File \"d:\\projekty-projekciki\\ml\\model-repository\\Calories of Cereals SVR\\score_batch.py\", line 26, in load_model\n",
      "    model = joblib.load(MODEL_PATH)\n",
      "            ^^^^^^^^^^^^^^^^^^^^^^^\n",
      "  File \"D:\\projekty-projekciki\\ml\\mlops-env\\Lib\\site-packages\\joblib\\numpy_pickle.py\", line 650, in load\n",
      "    with open(filename, 'rb') as f:\n",
      "         ^^^^^^^^^^^^^^^^^^^^\n",
      "FileNotFoundError: [Errno 2] No such file or directory: 'ModelsRepository\\\\Calories of Cereals SVR\\\\Calories of Cereals SVR_model_object.joblib'\n"
     ]
    },
    {
     "name": "stdout",
     "output_type": "stream",
     "text": [
      "\n",
      "(mlops-env) d:\\projekty-projekciki\\ml>deactivate\n",
      "d:\\projekty-projekciki\\ml>"
     ]
    }
   ],
   "source": [
    "%%cmd\n",
    ".\\mlops-env\\Scripts\\Activate\n",
    "python \"model-repository\\Calories of Cereals SVR\\score_batch.py\" \"example-data\\cereals.csv\"\n",
    "deactivate"
   ]
  },
  {
   "cell_type": "code",
   "execution_count": 1,
   "id": "4db1e903-2fa4-4588-ad72-280c368c7c0c",
   "metadata": {},
   "outputs": [
    {
     "name": "stdout",
     "output_type": "stream",
     "text": [
      "Model 'Iris LR pipeline' loaded successfully from the repository.\n"
     ]
    }
   ],
   "source": [
    "from MLOps import ModelManager as MM\n",
    "\n",
    "iris_clf    = MM.load_model('Iris LR pipeline')"
   ]
  },
  {
   "cell_type": "code",
   "execution_count": 2,
   "id": "15475559-e421-4c46-a20f-98f228f39657",
   "metadata": {},
   "outputs": [
    {
     "name": "stdout",
     "output_type": "stream",
     "text": [
      "Batch scoring script generated at: \"model-repository\\Iris LR pipeline\\score_batch.py\"\n",
      "To run the script, please activate your virtual environment located in 'mlops-env', execute the script, and then deactivate the environment as follows:\n",
      ".\\mlops-env\\Scripts\\Activate\n",
      "python \"model-repository\\Iris LR pipeline\\score_batch.py\" \"<path/to/input_data.csv>\" [--no-headers]\n",
      "deactivate\n"
     ]
    }
   ],
   "source": [
    "iris_clf.generate_batch_score_code()"
   ]
  },
  {
   "cell_type": "code",
   "execution_count": 4,
   "id": "f1a8dcba-d883-4654-99ec-4bf587cf3b4e",
   "metadata": {},
   "outputs": [
    {
     "name": "stdout",
     "output_type": "stream",
     "text": [
      "Microsoft Windows [Version 10.0.22631.4460]\n",
      "(c) Microsoft Corporation. Wszelkie prawa zastrze�one.\n",
      "\n",
      "(mlops-env) d:\\projekty-projekciki\\ml>.\\mlops-env\\Scripts\\Activate\n"
     ]
    },
    {
     "name": "stdout",
     "output_type": "stream",
     "text": [
      "\n",
      "(mlops-env) d:\\projekty-projekciki\\ml>python \"model-repository\\Iris LR pipeline\\score_batch.py\" \"example-data\\iris_test.csv\"\n"
     ]
    },
    {
     "name": "stderr",
     "output_type": "stream",
     "text": [
      "Traceback (most recent call last):\n",
      "  File \"d:\\projekty-projekciki\\ml\\model-repository\\Iris LR pipeline\\score_batch.py\", line 77, in <module>\n",
      "    score_batch(args.input_data_path, has_headers=not args.no_headers)\n",
      "  File \"d:\\projekty-projekciki\\ml\\model-repository\\Iris LR pipeline\\score_batch.py\", line 56, in score_batch\n",
      "    data = validate_input_data(data)\n",
      "           ^^^^^^^^^^^^^^^^^^^^^^^^^\n",
      "  File \"d:\\projekty-projekciki\\ml\\model-repository\\Iris LR pipeline\\score_batch.py\", line 33, in validate_input_data\n",
      "    raise ValueError(f\"Input data is missing the following required features: {missing_features}\")\n",
      "ValueError: Input data is missing the following required features: ['petal_length', 'petal_width', 'sepal_length', 'sepal_width']\n"
     ]
    },
    {
     "name": "stdout",
     "output_type": "stream",
     "text": [
      "\n",
      "(mlops-env) d:\\projekty-projekciki\\ml>deactivate\n",
      "d:\\projekty-projekciki\\ml>"
     ]
    }
   ],
   "source": [
    "%%cmd\n",
    ".\\mlops-env\\Scripts\\Activate\n",
    "python \"model-repository\\Iris LR pipeline\\score_batch.py\" \"example-data\\iris_test.csv\"\n",
    "deactivate"
   ]
  }
 ],
 "metadata": {
  "kernelspec": {
   "display_name": "mlops-env",
   "language": "python",
   "name": "python3"
  },
  "language_info": {
   "codemirror_mode": {
    "name": "ipython",
    "version": 3
   },
   "file_extension": ".py",
   "mimetype": "text/x-python",
   "name": "python",
   "nbconvert_exporter": "python",
   "pygments_lexer": "ipython3",
   "version": "3.12.6"
  }
 },
 "nbformat": 4,
 "nbformat_minor": 5
}
