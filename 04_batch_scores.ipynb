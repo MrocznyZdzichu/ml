{
 "cells": [
  {
   "cell_type": "code",
   "execution_count": 1,
   "id": "4db1e903-2fa4-4588-ad72-280c368c7c0c",
   "metadata": {},
   "outputs": [
    {
     "name": "stdout",
     "output_type": "stream",
     "text": [
      "Model 'Iris classifier' loaded successfully.\n",
      "Model 'Calories of cereals' loaded successfully.\n"
     ]
    }
   ],
   "source": [
    "from MLOps import ModelManager as MM\n",
    "\n",
    "iris_clf    = MM.load_model('Iris classifier')\n",
    "cereals_reg = MM.load_model('Calories of cereals')"
   ]
  },
  {
   "cell_type": "code",
   "execution_count": 2,
   "id": "15475559-e421-4c46-a20f-98f228f39657",
   "metadata": {},
   "outputs": [
    {
     "name": "stdout",
     "output_type": "stream",
     "text": [
      "Batch scoring script generated at: \"ModelsRepository\\Calories of cereals\\score_batch.py\"\n",
      "To run the script, please activate your virtual environment located in 'mlops-env', execute the script, and then deactivate the environment as follows:\n",
      ".\\mlops-env\\Scripts\\Activate\n",
      "python \"ModelsRepository\\Calories of cereals\\score_batch.py\" \"<path/to/input_data.csv>\" [--no-headers]\n",
      "deactivate\n"
     ]
    }
   ],
   "source": [
    "cereals_reg.generate_batch_score_code()"
   ]
  },
  {
   "cell_type": "code",
   "execution_count": 3,
   "id": "874af7b9-e69c-4922-a414-06914edd4f70",
   "metadata": {},
   "outputs": [
    {
     "name": "stdout",
     "output_type": "stream",
     "text": [
      "Batch scoring script generated at: \"ModelsRepository\\Iris classifier\\score_batch.py\"\n",
      "To run the script, please activate your virtual environment located in 'mlops-env', execute the script, and then deactivate the environment as follows:\n",
      ".\\mlops-env\\Scripts\\Activate\n",
      "python \"ModelsRepository\\Iris classifier\\score_batch.py\" \"<path/to/input_data.csv>\" [--no-headers]\n",
      "deactivate\n"
     ]
    }
   ],
   "source": [
    "iris_clf.generate_batch_score_code()"
   ]
  },
  {
   "cell_type": "code",
   "execution_count": 6,
   "id": "f1a8dcba-d883-4654-99ec-4bf587cf3b4e",
   "metadata": {},
   "outputs": [
    {
     "name": "stdout",
     "output_type": "stream",
     "text": [
      "Microsoft Windows [Version 10.0.22631.4317]\n",
      "(c) Microsoft Corporation. Wszelkie prawa zastrze�one.\n",
      "\n",
      "D:\\projekty-projekciki\\ml>.\\mlops-env\\Scripts\\Activate\n",
      "\n",
      "(mlops-env) D:\\projekty-projekciki\\ml>python \"ModelsRepository\\Calories of cereals\\score_batch.py\" \"example-data\\cereals.csv\"\n",
      "Predictions saved to ModelsRepository\\Calories of cereals\\Calories of cereals_batch_predictions.csv\n",
      "\n",
      "(mlops-env) D:\\projekty-projekciki\\ml>deactivate\n",
      "D:\\projekty-projekciki\\ml>"
     ]
    }
   ],
   "source": [
    "%%cmd\n",
    ".\\mlops-env\\Scripts\\Activate\n",
    "python \"ModelsRepository\\Calories of cereals\\score_batch.py\" \"example-data\\cereals.csv\"\n",
    "deactivate"
   ]
  },
  {
   "cell_type": "code",
   "execution_count": 8,
   "id": "36263244-7244-4409-950a-1ea3df83d03e",
   "metadata": {},
   "outputs": [
    {
     "name": "stdout",
     "output_type": "stream",
     "text": [
      "Microsoft Windows [Version 10.0.22631.4317]\n",
      "(c) Microsoft Corporation. Wszelkie prawa zastrze�one.\n",
      "\n",
      "D:\\projekty-projekciki\\ml>.\\mlops-env\\Scripts\\Activate\n",
      "\n",
      "(mlops-env) D:\\projekty-projekciki\\ml>python \"ModelsRepository\\Iris classifier\\score_batch.py\" \"example-data\\iris_test.csv\" --no-header\n",
      "Warning: The provided CSV does not contain headers. Assuming the columns are in the correct order.\n",
      "Predictions saved to ModelsRepository\\Iris classifier\\Iris classifier_batch_predictions.csv\n",
      "\n",
      "(mlops-env) D:\\projekty-projekciki\\ml>deactivate\n",
      "D:\\projekty-projekciki\\ml>"
     ]
    }
   ],
   "source": [
    "%%cmd\n",
    ".\\mlops-env\\Scripts\\Activate\n",
    "python \"ModelsRepository\\Iris classifier\\score_batch.py\" \"example-data\\iris_test.csv\" --no-header\n",
    "deactivate"
   ]
  }
 ],
 "metadata": {
  "kernelspec": {
   "display_name": "mlops-env",
   "language": "python",
   "name": "mlops-env"
  },
  "language_info": {
   "codemirror_mode": {
    "name": "ipython",
    "version": 3
   },
   "file_extension": ".py",
   "mimetype": "text/x-python",
   "name": "python",
   "nbconvert_exporter": "python",
   "pygments_lexer": "ipython3",
   "version": "3.12.6"
  }
 },
 "nbformat": 4,
 "nbformat_minor": 5
}
