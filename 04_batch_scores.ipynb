{
 "cells": [
  {
   "cell_type": "code",
   "execution_count": 1,
   "id": "2b83072c",
   "metadata": {},
   "outputs": [
    {
     "name": "stdout",
     "output_type": "stream",
     "text": [
      "Model 'Calories of Cereals SVR' loaded successfully from the repository.\n"
     ]
    }
   ],
   "source": [
    "from MLOps import ModelManager as MM\n",
    "\n",
    "cereals_reg    = MM.load_model('Calories of Cereals SVR')"
   ]
  },
  {
   "cell_type": "code",
   "execution_count": 2,
   "id": "64c53010",
   "metadata": {},
   "outputs": [
    {
     "name": "stdout",
     "output_type": "stream",
     "text": [
      "Batch scoring script generated at: \"model-repository\\Calories of Cereals SVR\\score_batch.py\"\n",
      "To run the script, please activate your virtual environment located in 'mlops-env', execute the script, and then deactivate the environment as follows:\n",
      ".\\mlops-env\\Scripts\\Activate\n",
      "python \"model-repository\\Calories of Cereals SVR\\score_batch.py\" \"<path/to/input_data.csv>\" [--no-headers]\n",
      "deactivate\n"
     ]
    }
   ],
   "source": [
    "cereals_reg.generate_batch_score_code()"
   ]
  },
  {
   "cell_type": "code",
   "execution_count": 3,
   "id": "79cd914d",
   "metadata": {},
   "outputs": [
    {
     "name": "stdout",
     "output_type": "stream",
     "text": [
      "Microsoft Windows [Version 10.0.22631.4460]\n",
      "(c) Microsoft Corporation. Wszelkie prawa zastrze�one.\n",
      "\n",
      "(mlops-env) d:\\projekty-projekciki\\ml>.\\mlops-env\\Scripts\\Activate\n",
      "\n",
      "(mlops-env) d:\\projekty-projekciki\\ml>python \"model-repository\\Calories of Cereals SVR\\score_batch.py\" \"example-data\\cereals.csv\"\n",
      "Predictions saved to model-repository\\Calories of Cereals SVR\\score-results\\batch\\batch_2024-12-08_16-54-10.csv\n",
      "\n",
      "(mlops-env) d:\\projekty-projekciki\\ml>deactivate\n",
      "d:\\projekty-projekciki\\ml>"
     ]
    }
   ],
   "source": [
    "%%cmd\n",
    ".\\mlops-env\\Scripts\\Activate\n",
    "python \"model-repository\\Calories of Cereals SVR\\score_batch.py\" \"example-data\\cereals.csv\"\n",
    "deactivate"
   ]
  },
  {
   "cell_type": "code",
   "execution_count": 4,
   "id": "4db1e903-2fa4-4588-ad72-280c368c7c0c",
   "metadata": {},
   "outputs": [
    {
     "name": "stdout",
     "output_type": "stream",
     "text": [
      "Model 'Iris LR pipeline' loaded successfully from the repository.\n"
     ]
    }
   ],
   "source": [
    "from MLOps import ModelManager as MM\n",
    "\n",
    "iris_clf    = MM.load_model('Iris LR pipeline')"
   ]
  },
  {
   "cell_type": "code",
   "execution_count": 5,
   "id": "15475559-e421-4c46-a20f-98f228f39657",
   "metadata": {},
   "outputs": [
    {
     "name": "stdout",
     "output_type": "stream",
     "text": [
      "Batch scoring script generated at: \"model-repository\\Iris LR pipeline\\score_batch.py\"\n",
      "To run the script, please activate your virtual environment located in 'mlops-env', execute the script, and then deactivate the environment as follows:\n",
      ".\\mlops-env\\Scripts\\Activate\n",
      "python \"model-repository\\Iris LR pipeline\\score_batch.py\" \"<path/to/input_data.csv>\" [--no-headers]\n",
      "deactivate\n"
     ]
    }
   ],
   "source": [
    "iris_clf.generate_batch_score_code()"
   ]
  },
  {
   "cell_type": "code",
   "execution_count": 6,
   "id": "f1a8dcba-d883-4654-99ec-4bf587cf3b4e",
   "metadata": {},
   "outputs": [
    {
     "name": "stdout",
     "output_type": "stream",
     "text": [
      "Microsoft Windows [Version 10.0.22631.4460]\n",
      "(c) Microsoft Corporation. Wszelkie prawa zastrze�one.\n",
      "\n",
      "(mlops-env) d:\\projekty-projekciki\\ml>.\\mlops-env\\Scripts\\Activate\n",
      "\n",
      "(mlops-env) d:\\projekty-projekciki\\ml>python \"model-repository\\Iris LR pipeline\\score_batch.py\" \"example-data\\iris_test.csv\" \"--no-headers\"\n",
      "Warning: The provided CSV does not contain headers. Assuming the columns are in the correct order.\n",
      "Predictions saved to model-repository\\Iris LR pipeline\\score-results\\batch\\batch_2024-12-08_16-55-04.csv\n",
      "\n",
      "(mlops-env) d:\\projekty-projekciki\\ml>deactivate\n",
      "d:\\projekty-projekciki\\ml>"
     ]
    }
   ],
   "source": [
    "%%cmd\n",
    ".\\mlops-env\\Scripts\\Activate\n",
    "python \"model-repository\\Iris LR pipeline\\score_batch.py\" \"example-data\\iris_test.csv\" \"--no-headers\"\n",
    "deactivate"
   ]
  }
 ],
 "metadata": {
  "kernelspec": {
   "display_name": "mlops-env",
   "language": "python",
   "name": "python3"
  },
  "language_info": {
   "codemirror_mode": {
    "name": "ipython",
    "version": 3
   },
   "file_extension": ".py",
   "mimetype": "text/x-python",
   "name": "python",
   "nbconvert_exporter": "python",
   "pygments_lexer": "ipython3",
   "version": "3.12.6"
  }
 },
 "nbformat": 4,
 "nbformat_minor": 5
}
